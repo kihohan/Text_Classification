{
 "cells": [
  {
   "cell_type": "code",
   "execution_count": 1,
   "metadata": {},
   "outputs": [],
   "source": [
    "import os \n",
    "import re\n",
    "import pickle\n",
    "import numpy as np\n",
    "import pandas as pd\n",
    "\n",
    "import warnings\n",
    "warnings.filterwarnings('ignore')\n",
    "\n",
    "from function import *\n",
    "\n",
    "import sentencepiece as spm\n",
    "from tensorflow import keras\n",
    "from tensorflow.keras.preprocessing import sequence"
   ]
  },
  {
   "cell_type": "code",
   "execution_count": 2,
   "metadata": {},
   "outputs": [],
   "source": [
    "import lime\n",
    "from lime import lime_text\n",
    "from lime.lime_text import LimeTextExplainer"
   ]
  },
  {
   "cell_type": "code",
   "execution_count": 3,
   "metadata": {},
   "outputs": [],
   "source": [
    "path = os.getcwd()"
   ]
  },
  {
   "cell_type": "code",
   "execution_count": 4,
   "metadata": {},
   "outputs": [],
   "source": [
    "# spm_load\n",
    "sp = spm.SentencePieceProcessor()\n",
    "sp.Load(path + '/out/cate_spm.model')\n",
    "# tkn_load\n",
    "with open(path + '/out/cate_tkn.pickle', 'rb') as handle:\n",
    "    tkn = pickle.load(handle)\n",
    "# label load\n",
    "with open(path + '/out/labels.pickle', 'rb') as handle:\n",
    "    mapping_dct = pickle.load(handle)\n",
    "# model_load\n",
    "classification_model = keras.models.load_model(path + '/out/cate_model.h5')"
   ]
  },
  {
   "cell_type": "code",
   "execution_count": 5,
   "metadata": {},
   "outputs": [],
   "source": [
    "class_names = list(mapping_dct.values())\n",
    "explainer = LimeTextExplainer(class_names = class_names)"
   ]
  },
  {
   "cell_type": "code",
   "execution_count": 6,
   "metadata": {},
   "outputs": [],
   "source": [
    "def pred(lst, max_len = 50):\n",
    "    pre = [' '.join(clean_spm(sp.encode_as_pieces(text))) for text in lst]\n",
    "    t = sequence.pad_sequences(tkn.texts_to_sequences(pre), maxlen = max_len)\n",
    "    P = classification_model.predict_on_batch(t)\n",
    "    return P"
   ]
  },
  {
   "cell_type": "code",
   "execution_count": 7,
   "metadata": {},
   "outputs": [],
   "source": [
    "def spm(text):\n",
    "    r = [' '.join(clean_spm(sp.encode_as_pieces(text))) for text in [text]]\n",
    "    return ''.join(r)"
   ]
  },
  {
   "cell_type": "code",
   "execution_count": 8,
   "metadata": {},
   "outputs": [],
   "source": [
    "def cate_pred_two(lst, max_len):\n",
    "    pre = [' '.join(clean_spm(sp.encode_as_pieces(text))) for text in lst]\n",
    "    t = sequence.pad_sequences(tkn.texts_to_sequences(pre), maxlen = max_len)\n",
    "    P = classification_model.predict_on_batch(t)\n",
    "    pred = np.argsort(P)[0][::-1][:2]\n",
    "    prob = np.partition(P.flatten(), -2)[::-1][:2]\n",
    "    X = pd.Series(pred).map(mapping_dct).to_list()\n",
    "    return dict(zip(X, prob))"
   ]
  },
  {
   "cell_type": "code",
   "execution_count": 9,
   "metadata": {},
   "outputs": [
    {
     "data": {
      "text/plain": [
       "(219844, 23)"
      ]
     },
     "execution_count": 9,
     "metadata": {},
     "output_type": "execute_result"
    }
   ],
   "source": [
    "import random\n",
    "import pymongo\n",
    "\n",
    "client = pymongo.MongoClient(\"mongodb://133.186.168.8:50000\")\n",
    "db = client.AP_ECOMMERCE\n",
    "collection = db.EC_PROCESS_LOG\n",
    "cursor = collection.find({'collect_site':'top.ssg.com'})\n",
    "dt = pd.DataFrame(list(cursor))\n",
    "dt['text'] = dt['goods_name'] + ' ' + dt['option_name'] + ' ' + dt['master_brand_name']\n",
    "dt.shape"
   ]
  },
  {
   "cell_type": "code",
   "execution_count": 10,
   "metadata": {},
   "outputs": [
    {
     "name": "stdout",
     "output_type": "stream",
     "text": [
      "goods_name: [SIXPAD]식스패드 트레이닝 슈트 암&웨스트세트 Arm & Waist set\n",
      "option_name: M_S\n",
      "traverse_cate: ssg > 뷰티 > 미용기기/소품 > 페이스관리기기 > 페이셜관리기\n",
      "goods_cate: ssg > 뷰티 > 미용기기/소품 > 페이스관리기기 > 페이셜관리기\n",
      "url: http://www.ssg.com/item/itemView.ssg?itemId=1000024908979&siteNo=6004&salestrNo=6005\n",
      "==================================================================================================================================\n",
      "preds: {'메이크업세트': 0.60186946, '립앤아이리무버': 0.19332413}\n",
      "==================================================================================================================================\n",
      "Weight For Words\n",
      "\n"
     ]
    },
    {
     "ename": "NameError",
     "evalue": "name 'reverse_mapping_dct' is not defined",
     "output_type": "error",
     "traceback": [
      "\u001b[0;31m---------------------------------------------------------------------------\u001b[0m",
      "\u001b[0;31mNameError\u001b[0m                                 Traceback (most recent call last)",
      "\u001b[0;32m<ipython-input-10-3bde95072902>\u001b[0m in \u001b[0;36m<module>\u001b[0;34m\u001b[0m\n\u001b[1;32m     13\u001b[0m \u001b[0mprint\u001b[0m \u001b[0;34m(\u001b[0m\u001b[0;34m'='\u001b[0m \u001b[0;34m*\u001b[0m \u001b[0;36m130\u001b[0m\u001b[0;34m)\u001b[0m\u001b[0;34m\u001b[0m\u001b[0;34m\u001b[0m\u001b[0m\n\u001b[1;32m     14\u001b[0m \u001b[0mprint\u001b[0m \u001b[0;34m(\u001b[0m\u001b[0;34m'Weight For Words\\n'\u001b[0m\u001b[0;34m)\u001b[0m\u001b[0;34m\u001b[0m\u001b[0;34m\u001b[0m\u001b[0m\n\u001b[0;32m---> 15\u001b[0;31m \u001b[0mprint\u001b[0m \u001b[0;34m(\u001b[0m\u001b[0;34m'\\n'\u001b[0m\u001b[0;34m.\u001b[0m\u001b[0mjoin\u001b[0m\u001b[0;34m(\u001b[0m\u001b[0mmap\u001b[0m\u001b[0;34m(\u001b[0m\u001b[0mstr\u001b[0m\u001b[0;34m,\u001b[0m \u001b[0mexp\u001b[0m\u001b[0;34m.\u001b[0m\u001b[0mas_list\u001b[0m\u001b[0;34m(\u001b[0m\u001b[0mlabel\u001b[0m \u001b[0;34m=\u001b[0m \u001b[0mreverse_mapping_dct\u001b[0m\u001b[0;34m[\u001b[0m\u001b[0mlist\u001b[0m\u001b[0;34m(\u001b[0m\u001b[0mP\u001b[0m\u001b[0;34m.\u001b[0m\u001b[0mkeys\u001b[0m\u001b[0;34m(\u001b[0m\u001b[0;34m)\u001b[0m\u001b[0;34m)\u001b[0m\u001b[0;34m[\u001b[0m\u001b[0;36m0\u001b[0m\u001b[0;34m]\u001b[0m\u001b[0;34m]\u001b[0m\u001b[0;34m)\u001b[0m\u001b[0;34m)\u001b[0m\u001b[0;34m)\u001b[0m\u001b[0;34m)\u001b[0m\u001b[0;34m\u001b[0m\u001b[0;34m\u001b[0m\u001b[0m\n\u001b[0m\u001b[1;32m     16\u001b[0m \u001b[0mprint\u001b[0m \u001b[0;34m(\u001b[0m\u001b[0;34m'='\u001b[0m \u001b[0;34m*\u001b[0m \u001b[0;36m130\u001b[0m\u001b[0;34m,\u001b[0m\u001b[0;34m'\\n'\u001b[0m\u001b[0;34m)\u001b[0m\u001b[0;34m\u001b[0m\u001b[0;34m\u001b[0m\u001b[0m\n\u001b[1;32m     17\u001b[0m \u001b[0mexp\u001b[0m\u001b[0;34m.\u001b[0m\u001b[0mshow_in_notebook\u001b[0m\u001b[0;34m(\u001b[0m\u001b[0mtext\u001b[0m \u001b[0;34m=\u001b[0m \u001b[0;32mTrue\u001b[0m\u001b[0;34m)\u001b[0m\u001b[0;34m\u001b[0m\u001b[0;34m\u001b[0m\u001b[0m\n",
      "\u001b[0;31mNameError\u001b[0m: name 'reverse_mapping_dct' is not defined"
     ]
    }
   ],
   "source": [
    "text = random.choice(dt['text'].to_list())\n",
    "pre = spm(text)\n",
    "exp = explainer.explain_instance(pre, pred, num_features = 10, top_labels = 2)\n",
    "# print(exp.available_labels())\n",
    "print ('goods_name:',dt[dt['text'] == text]['goods_name'].values[0])\n",
    "print ('option_name:',dt[dt['text'] == text]['option_name'].values[0])\n",
    "print('traverse_cate:',dt[dt['text'] == text]['traverse_cate'].values[0])\n",
    "print('goods_cate:',dt[dt['text'] == text]['goods_cate'].values[0])\n",
    "print ('url:',dt[dt['text'] == text]['collect_url'].values[0])\n",
    "print ('=' * 130)\n",
    "P = cate_pred_two([text],50)\n",
    "print ('preds:',P)\n",
    "print ('=' * 130)\n",
    "print ('Weight For Words\\n')\n",
    "reverse_mapping_dct = {v: k for k, v in mapping_dct.items()}\n",
    "print ('\\n'.join(map(str, exp.as_list(label = reverse_mapping_dct[list(P.keys())[0]]))))\n",
    "print ('=' * 130,'\\n')\n",
    "exp.show_in_notebook(text = True)"
   ]
  },
  {
   "cell_type": "code",
   "execution_count": 16,
   "metadata": {},
   "outputs": [],
   "source": [
    "reverse_mapping_dct = {v: k for k, v in mapping_dct.items()}"
   ]
  },
  {
   "cell_type": "code",
   "execution_count": 17,
   "metadata": {},
   "outputs": [
    {
     "data": {
      "text/plain": [
       "{'BB/CC크림': 0,\n",
       " '구강청결제': 1,\n",
       " '남성메이크업 (남성)': 2,\n",
       " '남성향수': 3,\n",
       " '네일리무버': 4,\n",
       " '네일컬러': 5,\n",
       " '네일케어용품': 6,\n",
       " '네일팁/스티커': 7,\n",
       " '데오드란트': 8,\n",
       " '드라이샴푸': 9,\n",
       " '로션': 10,\n",
       " '로션 (남성)': 11,\n",
       " '린스/컨디셔너': 12,\n",
       " '립라이너/립팔레트': 13,\n",
       " '립밤/립케어': 14,\n",
       " '립스틱': 15,\n",
       " '립앤아이리무버': 16,\n",
       " '마스카라': 17,\n",
       " '메이크업베이스': 18,\n",
       " '메이크업세트': 19,\n",
       " '미스트': 20,\n",
       " '바디로션/크림': 21,\n",
       " '바디미스트/코롱': 22,\n",
       " '바디선케어/선크림': 23,\n",
       " '바디스크럽/필링': 24,\n",
       " '바디오일': 25,\n",
       " '바디워시': 26,\n",
       " '바디파우더': 27,\n",
       " '베이비로션': 28,\n",
       " '베이비워시/클렌져': 29,\n",
       " '뷰티용품': 30,\n",
       " '블러셔': 31,\n",
       " '비누': 32,\n",
       " '샴푸': 33,\n",
       " '선스틱': 34,\n",
       " '선스프레이': 35,\n",
       " '선케어/BB크림 (남성)': 36,\n",
       " '선쿠션/파우더': 37,\n",
       " '스킨/애프터쉐이브 (남성)': 38,\n",
       " '스킨/토너': 39,\n",
       " '슬리핑팩': 40,\n",
       " '시트마스크': 41,\n",
       " '아이메이크업': 42,\n",
       " '아이크림': 43,\n",
       " '에센스 (남성)': 44,\n",
       " '에센스/앰플': 45,\n",
       " '여성향수': 46,\n",
       " '염색약': 47,\n",
       " '워시오프팩': 48,\n",
       " '입욕제/버블바스': 49,\n",
       " '제모기/제모스트럽/제모크림': 50,\n",
       " '청결제': 51,\n",
       " '컨실러': 52,\n",
       " '컬링에센스': 53,\n",
       " '코팩': 54,\n",
       " '쿠션파운데이션': 55,\n",
       " '크림': 56,\n",
       " '크림 (남성)': 57,\n",
       " '클렌징/쉐이빙 (남성)': 58,\n",
       " '클렌징오일': 59,\n",
       " '클렌징워터': 60,\n",
       " '클렌징크림/로션': 61,\n",
       " '클렌징티슈': 62,\n",
       " '클렌징폼/젤': 63,\n",
       " '틴트/립글로스': 64,\n",
       " '파마약': 65,\n",
       " '파우더/팩트': 66,\n",
       " '파운데이션': 67,\n",
       " '페이스오일': 68,\n",
       " '풋케어': 69,\n",
       " '프라이머': 70,\n",
       " '하이라이터': 71,\n",
       " '핸드/풋마스크': 72,\n",
       " '핸드워시': 73,\n",
       " '핸드케어': 74,\n",
       " '헤어메이크업': 75,\n",
       " '헤어미스트': 76,\n",
       " '헤어바디세트': 77,\n",
       " '헤어스프레이': 78,\n",
       " '헤어앰플': 79,\n",
       " '헤어에센스': 80,\n",
       " '헤어왁스/젤': 81,\n",
       " '헤어트리트먼트': 82,\n",
       " '헤어팩': 83,\n",
       " '흑채': 84}"
      ]
     },
     "execution_count": 17,
     "metadata": {},
     "output_type": "execute_result"
    }
   ],
   "source": [
    "reverse_mapping_dct"
   ]
  },
  {
   "cell_type": "code",
   "execution_count": null,
   "metadata": {},
   "outputs": [],
   "source": []
  }
 ],
 "metadata": {
  "kernelspec": {
   "display_name": "Python 3",
   "language": "python",
   "name": "python3"
  },
  "language_info": {
   "codemirror_mode": {
    "name": "ipython",
    "version": 3
   },
   "file_extension": ".py",
   "mimetype": "text/x-python",
   "name": "python",
   "nbconvert_exporter": "python",
   "pygments_lexer": "ipython3",
   "version": "3.6.8"
  }
 },
 "nbformat": 4,
 "nbformat_minor": 4
}
